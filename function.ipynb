{
  "nbformat": 4,
  "nbformat_minor": 0,
  "metadata": {
    "colab": {
      "provenance": []
    },
    "kernelspec": {
      "name": "python3",
      "display_name": "Python 3"
    },
    "language_info": {
      "name": "python"
    }
  },
  "cells": [
    {
      "cell_type": "markdown",
      "source": [
        "# Theory Questions\n",
        "\n"
      ],
      "metadata": {
        "id": "uop9pe-V3_xK"
      }
    },
    {
      "cell_type": "markdown",
      "source": [
        "1.what is the difference between a function and a method in Python?\n",
        "- Function: A function in Python is an independent block of reusable code that performs a specific task. Functions are defined outside of classes and are not associated with any object or class. They can be called by their name from anywhere in the code.Function Called directly by its name, for example, sum(5, 6)\n",
        "- Method: A method is a function that is associated with a class or an object. It is defined inside a class and is called on an instance (object) of that class or on the class itself (for class methods).Method Called using dot notation on an object or class, for example, cat.my_method() or name.upper()\n",
        "- summery point\n",
        "  - A function is a standalone block of code, while a method is a function that belongs to a class or object.\n",
        "  - Methods can access and modify the internal state of the object they belong to, whereas functions can only operate on the data explicitly provided to them.\n",
        "  - Methods require an object or class to be called, functions do not"
      ],
      "metadata": {
        "id": "C0S7yTlU4sb8"
      }
    },
    {
      "cell_type": "code",
      "source": [
        "def add(a, b):\n",
        "    return a + b\n",
        "\n",
        "result = add(2, 3)\n",
        "print(result)"
      ],
      "metadata": {
        "colab": {
          "base_uri": "https://localhost:8080/"
        },
        "id": "iL9rE1xsMTXD",
        "outputId": "c5b306d1-fca9-453a-aa4f-2b0155201885"
      },
      "execution_count": null,
      "outputs": [
        {
          "output_type": "stream",
          "name": "stdout",
          "text": [
            "5\n"
          ]
        }
      ]
    },
    {
      "cell_type": "markdown",
      "source": [
        "2.Explain the concept of function arguments and parameters in Python.\n",
        "- Arguments are the actual values you give to the function when you call it. These values fill in the placeholders (parameters)\n",
        "- Parameters are the names you put inside the parentheses when you define a function. They act as placeholders for the information the function needs.\n",
        "- summery\n",
        "  - Parameters are in the function definition.\n",
        "  - Arguments are in the function call"
      ],
      "metadata": {
        "id": "UdRNbjeG6gHL"
      }
    },
    {
      "cell_type": "code",
      "source": [
        "def greet(name):\n",
        "    print(\"Hello,\", name)\n",
        "\n",
        "greet(\"Chetan\")\n"
      ],
      "metadata": {
        "colab": {
          "base_uri": "https://localhost:8080/"
        },
        "id": "Isus_ggNMqXp",
        "outputId": "278fd0b8-6662-4f38-e7e7-de86af057239"
      },
      "execution_count": null,
      "outputs": [
        {
          "output_type": "stream",
          "name": "stdout",
          "text": [
            "Hello, Chetan\n"
          ]
        }
      ]
    },
    {
      "cell_type": "markdown",
      "source": [
        "3.What are the different ways to define and call a function in Python?\n",
        "- Ways to Define and Call a Function in Python\n",
        "Defining a Function\n",
        "\n",
        "  - Use the def keyword, followed by the function name and parentheses.\n",
        "  - Place any parameters (inputs) inside the parentheses.\n",
        "  - End the line with a colon :.\n",
        "  - Indent the next lines to write the function's code.\n",
        "  - Optionally, use return to send a value back when the function is called"
      ],
      "metadata": {
        "id": "_OeNCipm7dHC"
      }
    },
    {
      "cell_type": "code",
      "source": [
        "def say_hello():\n",
        "    print(\"Hello!\")\n",
        "say_hello()\n"
      ],
      "metadata": {
        "colab": {
          "base_uri": "https://localhost:8080/"
        },
        "id": "Xl9MuruIM_MT",
        "outputId": "ff083362-e1e4-4c99-ee9b-22fec1ad16d7"
      },
      "execution_count": null,
      "outputs": [
        {
          "output_type": "stream",
          "name": "stdout",
          "text": [
            "Hello!\n"
          ]
        }
      ]
    },
    {
      "cell_type": "markdown",
      "source": [
        "4.What is the purpose of the return statement in a Python function?\n",
        "- The purpose of the return statement in a Python function is to send a value back to the place where the function was called. When a function reaches a return statement, it immediately stops running and gives back the specified value to the caller. This allows you to use the result of the function elsewhere in your code, such as storing it in a variable or using it in another calculation"
      ],
      "metadata": {
        "id": "qGFxQp4l79bO"
      }
    },
    {
      "cell_type": "code",
      "source": [
        "def add(a, b):\n",
        "    return a + b\n",
        "\n",
        "result = add(3, 4)\n",
        "print(result)\n"
      ],
      "metadata": {
        "colab": {
          "base_uri": "https://localhost:8080/"
        },
        "id": "XzBiAEVSNR0v",
        "outputId": "534944e5-f24e-4b03-c767-1ab33b27aaeb"
      },
      "execution_count": null,
      "outputs": [
        {
          "output_type": "stream",
          "name": "stdout",
          "text": [
            "7\n"
          ]
        }
      ]
    },
    {
      "cell_type": "markdown",
      "source": [
        "5.What are iterators in Python and how do they differ from iterables?\n",
        "- Iterables and iterators are closely related concepts but serve different roles in Python.\n",
        "An iterator is an object that keeps track of its position while iterating over an iterable.\n",
        "- An iterator is an object that keeps track of its position while iterating over an iterable\n",
        "  - __iter__(): Returns the iterator object itself.\n",
        "  - __next__(): Returns the next item from the iterable. When there are no more items, it raises a StopIteration exception\n",
        "- An iterable is any object that can be looped over (for example, in a for loop).\n",
        "Common examples: lists, tuples, strings, dictionaries, sets.An iterable must have an __iter__() method that returns an iterator, or a __getitem__() method for indexed access.You can create an iterator from an iterable by passing it to the built-in iter() function\n"
      ],
      "metadata": {
        "id": "S9VSXmQc-1u1"
      }
    },
    {
      "cell_type": "code",
      "source": [
        "my_list = [1, 2, 3]\n",
        "my_iter = iter(my_list)\n",
        "print(next(my_iter))\n",
        "print(next(my_iter))\n",
        "print(next(my_iter))\n",
        "\n"
      ],
      "metadata": {
        "id": "fjsd7wp9NeNW"
      },
      "execution_count": null,
      "outputs": []
    },
    {
      "cell_type": "markdown",
      "source": [
        "6.Explain the concept of generators in Python and how they are defined.\n",
        "- Generators in Python are special functions that return an iterator which produces a sequence of values, one at a time, as you loop over them. Generators are especially useful when you want to process large datasets or streams of data without loading everything into memory at once\n",
        "- Instead of using return, a generator uses the yield keyword to produce a value.\n",
        "- When a generator function is called, it does not run the function body immediately. Instead, it returns a generator object.\n",
        "- Generators are memory-efficient since they generate values one at a time, only when needed.\n",
        "- They are defined using functions with yield, or with generator expressions using parentheses.\n",
        "- A generator is a function or expression that lets you iterate over a sequence of values, producing each value only when needed, using the yield keyword or generator expressions\n"
      ],
      "metadata": {
        "id": "uOqm_1wZAnSo"
      }
    },
    {
      "cell_type": "code",
      "source": [
        "squares = (x * x for x in range(1, 4))\n",
        "for num in squares:\n",
        "    print(num)"
      ],
      "metadata": {
        "colab": {
          "base_uri": "https://localhost:8080/"
        },
        "id": "GViPmmD1Pahe",
        "outputId": "f2f0edac-d593-43ce-ca02-6b630659fd57"
      },
      "execution_count": null,
      "outputs": [
        {
          "output_type": "stream",
          "name": "stdout",
          "text": [
            "1\n",
            "4\n",
            "9\n"
          ]
        }
      ]
    },
    {
      "cell_type": "markdown",
      "source": [
        "7.What are the advantage of using generators over regular functions.\n",
        "- Memory Efficiency: Generators produce one item at a time and do not store the entire sequence in memory. This is especially useful when working with large datasets or infinite sequences, as it saves a lot of memory compared to regular functions that return full lists or arrays.\n",
        "- Lazy Evaluation: Generators compute values only when needed (on-the-fly), rather than generating and storing all results at once. This allows for efficient handling of large or even infinite data streams, as values are created only as you iterate over them.\n",
        "- Simpler Code for Iterators: Generators are easier to implement than custom iterator classes. You just use the yield keyword in a function, and Python automatically handles the state and iteration logic for you.\n",
        "- Infinite Sequences: Generators can represent infinite sequences, since they generate values one at a time and don’t require all values to be stored in memory.\n",
        "- Generators are ideal for processing large or infinite data streams efficiently, with less memory usage and simpler code than regular functions that return complete collections"
      ],
      "metadata": {
        "id": "S4jF_mmrBayQ"
      }
    },
    {
      "cell_type": "code",
      "source": [
        "# regular function\n",
        "def get_numbers(n):\n",
        "    result = []\n",
        "    for i in range(n):\n",
        "        result.append(i)\n",
        "    return result\n",
        "\n",
        "numbers = get_numbers(11)  # All numbers are stored in memory at once!\n",
        "print(numbers)"
      ],
      "metadata": {
        "colab": {
          "base_uri": "https://localhost:8080/"
        },
        "id": "2TwvIZB0PtL2",
        "outputId": "92f9990a-c45b-4a5d-fdb3-58a032933781"
      },
      "execution_count": null,
      "outputs": [
        {
          "output_type": "stream",
          "name": "stdout",
          "text": [
            "[0, 1, 2, 3, 4, 5, 6, 7, 8, 9]\n"
          ]
        }
      ]
    },
    {
      "cell_type": "code",
      "source": [
        "# generator function\n",
        "def generate_numbers(n):\n",
        "    for i in range(n):\n",
        "        yield i\n",
        "\n",
        "for num in generate_numbers(11):  # Only one number is in memory at a time!\n",
        "    print(num)"
      ],
      "metadata": {
        "colab": {
          "base_uri": "https://localhost:8080/"
        },
        "id": "wp0urY9bQSSY",
        "outputId": "cf89fde8-720c-4073-dfa8-268e6adc3582"
      },
      "execution_count": null,
      "outputs": [
        {
          "output_type": "stream",
          "name": "stdout",
          "text": [
            "0\n",
            "1\n",
            "2\n",
            "3\n",
            "4\n",
            "5\n",
            "6\n",
            "7\n",
            "8\n",
            "9\n",
            "10\n"
          ]
        }
      ]
    },
    {
      "cell_type": "markdown",
      "source": [
        "8.What is a lambda function in Python and when is it typically used?\n",
        "- A lambda function in Python is a small, anonymous function defined without a name. It can take any number of arguments but only contains a single expression, which is evaluated and returned automatically.\n",
        "- lambda functions are used for concise, one-line functions needed temporarily, especially as arguments to other functions"
      ],
      "metadata": {
        "id": "Br2vRBsAF5CH"
      }
    },
    {
      "cell_type": "code",
      "source": [
        "# Double each number in a list using map and a lambda function\n",
        "numbers = [1, 2, 3]\n",
        "doubled = list(map(lambda x: x * 2, numbers))\n",
        "print(doubled)"
      ],
      "metadata": {
        "colab": {
          "base_uri": "https://localhost:8080/"
        },
        "id": "lsgTIqwoQ0Gn",
        "outputId": "f08c5d9c-42cf-442b-e7f6-3d70ee2c6708"
      },
      "execution_count": null,
      "outputs": [
        {
          "output_type": "stream",
          "name": "stdout",
          "text": [
            "[2, 4, 6]\n"
          ]
        }
      ]
    },
    {
      "cell_type": "markdown",
      "source": [
        "9.Explain the purpose and usage of the map() function in python.\n",
        "- The map() function in Python is used to apply a specified function to every item in one or more iterables (like lists, tuples, or sets) and returns an iterator with the results. This is useful for transforming data without writing explicit loops, making your code cleaner and often more efficient\n",
        "- map() returns an iterator (not a list), so you often need to convert it using list() or set() to see the results.\n",
        "- It is memory efficient, especially for large datasets, because it generates results on demand rather than storing them all at once.\n",
        "- You can use any callable (function, lambda, method) with map()\n",
        "- map() is a powerful tool for applying a function to every item in one or more iterables, simplifying data transformation and improving code efficiency"
      ],
      "metadata": {
        "id": "CraITqwNGyAY"
      }
    },
    {
      "cell_type": "code",
      "source": [
        "numbers = [1, 2, 3, 4]\n",
        "def square(n):\n",
        "    return n * n\n",
        "result = map(square, numbers)\n",
        "print(list(result))"
      ],
      "metadata": {
        "colab": {
          "base_uri": "https://localhost:8080/"
        },
        "id": "mag3BUSMRI4t",
        "outputId": "0f951922-0277-4a21-eb50-142e077c9df0"
      },
      "execution_count": null,
      "outputs": [
        {
          "output_type": "stream",
          "name": "stdout",
          "text": [
            "[1, 4, 9, 16]\n"
          ]
        }
      ]
    },
    {
      "cell_type": "markdown",
      "source": [
        "10.What is the difference between \"map()\",\"reduce()\",and \"filter()\" functions in Python\n",
        "- map(): Changes every item in a list.\n",
        "Example: Double every number.\n",
        "- filter(): Chooses some items from a list.\n",
        "Example: Keep only the even numbers.\n",
        "- reduce(): Combines all items in a list into one thing.\n",
        "Example: Add all the numbers together to get a total."
      ],
      "metadata": {
        "id": "dpwsDlFXHlTL"
      }
    },
    {
      "cell_type": "code",
      "source": [
        "# map function\n",
        "numbers = [1, 2, 3, 4]\n",
        "def square(n):\n",
        "    return n * n\n",
        "result = map(square, numbers)\n",
        "print(list(result))"
      ],
      "metadata": {
        "colab": {
          "base_uri": "https://localhost:8080/"
        },
        "id": "Tn_PAGKURTJC",
        "outputId": "75755b52-f75b-4c57-a513-61b6ab480dc5"
      },
      "execution_count": null,
      "outputs": [
        {
          "output_type": "stream",
          "name": "stdout",
          "text": [
            "[1, 4, 9, 16]\n"
          ]
        }
      ]
    },
    {
      "cell_type": "code",
      "source": [
        "# filter function\n",
        "numbers = [1, 2, 3, 4]\n",
        "def is_even(n):\n",
        "    return n % 2 == 0\n",
        "result = filter(is_even, numbers)\n",
        "print(list(result))"
      ],
      "metadata": {
        "colab": {
          "base_uri": "https://localhost:8080/"
        },
        "id": "xcRQxHO7RS3q",
        "outputId": "5980c554-3099-4549-bc52-2fbf65805c75"
      },
      "execution_count": null,
      "outputs": [
        {
          "output_type": "stream",
          "name": "stdout",
          "text": [
            "[2, 4]\n"
          ]
        }
      ]
    },
    {
      "cell_type": "code",
      "source": [
        "# reduce function\n",
        "from functools import reduce\n",
        "numbers = [1, 2, 3, 4, 5]\n",
        "product = reduce(lambda x, y: x * y, numbers)\n",
        "print(product)"
      ],
      "metadata": {
        "colab": {
          "base_uri": "https://localhost:8080/"
        },
        "id": "Y-ywtMFzRSXJ",
        "outputId": "5a98c413-c85d-4165-b38e-c601a1522f81"
      },
      "execution_count": null,
      "outputs": [
        {
          "output_type": "stream",
          "name": "stdout",
          "text": [
            "120\n"
          ]
        }
      ]
    },
    {
      "cell_type": "markdown",
      "source": [
        "11.Using pen and paper write the internal mechanism for sum operation using reduce function on this given list:[47,11,42,13]\n",
        "- Step-by-step breakdown:\n",
        "  - Step 1: 47 + 11 = 58\n",
        "\n",
        "  - Step 2: 58 + 42 = 100\n",
        "\n",
        "  - Step 3: 100 + 13 = 113\n",
        "  - reduce operation: the reduce operation does:\n",
        "\n",
        "(\n",
        "(\n",
        "(\n",
        "47\n",
        "+\n",
        "11\n",
        ")\n",
        "+\n",
        "42\n",
        ")\n",
        "+\n",
        "13\n",
        ")\n",
        "=\n",
        "113\n",
        "(((47+11)+42)+13)=113\n",
        "\n",
        "  - The final result is 113"
      ],
      "metadata": {
        "id": "pXDHd_PIJUJq"
      }
    },
    {
      "cell_type": "markdown",
      "source": [],
      "metadata": {
        "id": "GlkMqRCvL_ZM"
      }
    },
    {
      "cell_type": "markdown",
      "source": [
        "# Practical Questions"
      ],
      "metadata": {
        "id": "jpSvWo6ZR2G2"
      }
    },
    {
      "cell_type": "markdown",
      "source": [],
      "metadata": {
        "id": "nC26Gq3NR6Dl"
      }
    },
    {
      "cell_type": "code",
      "execution_count": 1,
      "metadata": {
        "id": "vGyCxLW338ne",
        "colab": {
          "base_uri": "https://localhost:8080/"
        },
        "outputId": "7ace452a-e6c7-4683-e8c7-0db1be684558"
      },
      "outputs": [
        {
          "output_type": "stream",
          "name": "stdout",
          "text": [
            "12\n"
          ]
        }
      ],
      "source": [
        "#1. Write a Python function that takes a list of numbers as input and returns the sum of all even numbers in the list.\n",
        "def sum_even(numbers):\n",
        "    total = 0\n",
        "    for num in numbers:\n",
        "        if num % 2 == 0:\n",
        "            total = total + num\n",
        "    return total\n",
        "print(sum_even([1, 2, 3, 4, 5, 6]))\n"
      ]
    },
    {
      "cell_type": "code",
      "source": [
        "#2.create a python function that accepts a string and returns the reverse of that string.\n",
        "def reverse_string(text):\n",
        "    return text[::-1]\n",
        "print(reverse_string(\"hello\"))\n"
      ],
      "metadata": {
        "colab": {
          "base_uri": "https://localhost:8080/"
        },
        "id": "x3C_dom7pZOM",
        "outputId": "f30b7252-c411-4781-f34e-7b1afbb544f1"
      },
      "execution_count": 2,
      "outputs": [
        {
          "output_type": "stream",
          "name": "stdout",
          "text": [
            "olleh\n"
          ]
        }
      ]
    },
    {
      "cell_type": "code",
      "source": [
        "#3. implement a Python function that takes a list of integers and return a new list containing the squares of each number.\n",
        "def square_numbers(numbers):\n",
        "    squares = []\n",
        "    for num in numbers:\n",
        "        squares.append(num ** 2)\n",
        "    return squares\n",
        "print(square_numbers([1, 2, 3, 4, 5]))"
      ],
      "metadata": {
        "colab": {
          "base_uri": "https://localhost:8080/"
        },
        "id": "pVEwsH0yqSew",
        "outputId": "756dba31-ecf3-4519-84bc-e01ebadcb099"
      },
      "execution_count": 3,
      "outputs": [
        {
          "output_type": "stream",
          "name": "stdout",
          "text": [
            "[1, 4, 9, 16, 25]\n"
          ]
        }
      ]
    },
    {
      "cell_type": "code",
      "source": [
        "#4. Write a Python function that checks if a given number is prime or not from 1 to 200.\n",
        "def is_prime(num):\n",
        "    if num <= 1:\n",
        "        return False\n",
        "    for i in range(2, int(num ** 0.5) + 1):\n",
        "        if num % i == 0:\n",
        "            return False\n",
        "    return True\n",
        "print(is_prime(7))\n",
        "print(is_prime(20))"
      ],
      "metadata": {
        "colab": {
          "base_uri": "https://localhost:8080/"
        },
        "id": "8ASpbxeisHvF",
        "outputId": "4c8f8771-4451-4b70-92d3-f4e80f33837a"
      },
      "execution_count": 4,
      "outputs": [
        {
          "output_type": "stream",
          "name": "stdout",
          "text": [
            "True\n",
            "False\n"
          ]
        }
      ]
    },
    {
      "cell_type": "code",
      "source": [
        "#5. Creates an iterator class in Python that generates the fibonacci sequences upto a specified number of terms.\n",
        "class Fibonacci:\n",
        "    def __init__(self, n):\n",
        "        self.n, self.a, self.b = n, 0, 1\n",
        "    def __iter__(self):\n",
        "        return self\n",
        "    def __next__(self):\n",
        "        if self.n <= 0:\n",
        "            raise StopIteration\n",
        "        self.n -= 1\n",
        "        self.a, self.b = self.b, self.a + self.b\n",
        "        return self.a - self.b + self.a\n",
        "for num in Fibonacci(10):\n",
        "    print(num)\n"
      ],
      "metadata": {
        "colab": {
          "base_uri": "https://localhost:8080/"
        },
        "id": "BtzTzN34srZW",
        "outputId": "69435293-d128-4d29-e5e2-b1177cc5773c"
      },
      "execution_count": 5,
      "outputs": [
        {
          "output_type": "stream",
          "name": "stdout",
          "text": [
            "1\n",
            "0\n",
            "1\n",
            "1\n",
            "2\n",
            "3\n",
            "5\n",
            "8\n",
            "13\n",
            "21\n"
          ]
        }
      ]
    },
    {
      "cell_type": "code",
      "source": [
        "#6. write a generator function in Python that yield the power of 2 up to given exponent.\n",
        "def powers_of_two(n):\n",
        "    for i in range(n + 1):\n",
        "        yield 2 ** i\n",
        "for x in powers_of_two(5):\n",
        "    print(x)\n"
      ],
      "metadata": {
        "colab": {
          "base_uri": "https://localhost:8080/"
        },
        "id": "uiIN_ORSt9cx",
        "outputId": "568fbc31-de30-473f-9bf4-5a2690f91c2f"
      },
      "execution_count": 6,
      "outputs": [
        {
          "output_type": "stream",
          "name": "stdout",
          "text": [
            "1\n",
            "2\n",
            "4\n",
            "8\n",
            "16\n",
            "32\n"
          ]
        }
      ]
    },
    {
      "cell_type": "code",
      "source": [
        "#7. Implement a generator function that reads a file line by line and yields each line as string.\n",
        "def read_lines(filename):\n",
        "    with open(filename) as f:\n",
        "        for line in f:\n",
        "            yield line\n",
        "\n",
        "# Example usage:\n",
        "for line in read_lines('sample.txt'):\n",
        "    print(line, end='')"
      ],
      "metadata": {
        "id": "6mhy7nJdvZRb"
      },
      "execution_count": 9,
      "outputs": []
    },
    {
      "cell_type": "code",
      "source": [
        "#8. Use a lambda function in Python to sort a list of tuples based on the second element of each tuple.\n",
        "tuples = [(1, 3), (4, 1), (5, 2)]\n",
        "tuples.sort(key=lambda x: x[1])\n",
        "print(tuples)\n"
      ],
      "metadata": {
        "colab": {
          "base_uri": "https://localhost:8080/"
        },
        "id": "HNbBEokpw4pE",
        "outputId": "977f2ecd-8cff-4aef-8280-6808e34844b6"
      },
      "execution_count": 10,
      "outputs": [
        {
          "output_type": "stream",
          "name": "stdout",
          "text": [
            "[(4, 1), (5, 2), (1, 3)]\n"
          ]
        }
      ]
    },
    {
      "cell_type": "code",
      "source": [
        "#9. Write a Python program that uses map() to convert a list of temperatures from celsius to fahrenheit.\n",
        "celsius = [0, 20, 30, 37]\n",
        "fahrenheit = list(map(lambda c: (c * 9/5) + 32, celsius))\n",
        "print(fahrenheit)\n"
      ],
      "metadata": {
        "colab": {
          "base_uri": "https://localhost:8080/"
        },
        "id": "6ckoAk7Mx8bB",
        "outputId": "c0ba790c-6558-4cad-cd52-031fdd8ac245"
      },
      "execution_count": 11,
      "outputs": [
        {
          "output_type": "stream",
          "name": "stdout",
          "text": [
            "[32.0, 68.0, 86.0, 98.6]\n"
          ]
        }
      ]
    },
    {
      "cell_type": "code",
      "source": [
        "#10. create a Python program that uses filter() to remove all the vowels from a given string.\n",
        "s = \"Hello World\"\n",
        "result = ''.join(filter(lambda x: x.lower() not in 'aeiou', s))\n",
        "print(result)\n"
      ],
      "metadata": {
        "colab": {
          "base_uri": "https://localhost:8080/"
        },
        "id": "HLAxg9Hdyhcu",
        "outputId": "75013c5c-895a-4a59-c99e-43bd25e7ecde"
      },
      "execution_count": 12,
      "outputs": [
        {
          "output_type": "stream",
          "name": "stdout",
          "text": [
            "Hll Wrld\n"
          ]
        }
      ]
    },
    {
      "cell_type": "code",
      "source": [
        "#11. Imagine an accounting routine used in a book shop.it works on a list Imagine an accounting routine used in a book shop. It works on a list with sublists, which look like this:\n",
        "# order number      Book Title and Author             Quantity      Price per item\n",
        "#  34587              Learning Python, Mark Lutz         4            40.95\n",
        "#  98762              Programming Python, Mark Lutz      5            56.80\n",
        "#  77226              Head first Python, Paul barry      3            32.95\n",
        "#  88112              Einfuhrung in python3 bernd klein  3            24.99\n",
        "# Write a Python program, which returns a list with 2-tuples. Each tuple consists of the order number and the\n",
        "# product of the price per item and the quantity. The product should be increased by 10,- € if the value of the\n",
        "# order is smaller than 100,00 €.\n",
        "# Write a Python program using lambda and map.\n",
        "\n",
        "orders = [\n",
        "    [34587, \"Learning Python, Mark Lutz\", 4, 40.95],\n",
        "    [98762, \"Programming Python, Mark Lutz\", 5, 56.80],\n",
        "    [77226, \"Head First Python, Paul Barry\", 3, 32.95],\n",
        "    [88112, \"Einfuhrung in Python3, Bernd Klein\", 3, 24.99]\n",
        "]\n",
        "\n",
        "result = list(map(\n",
        "    lambda order: (\n",
        "        order[0],\n",
        "        round(order[2] * order[3] + (10 if order[2] * order[3] < 100 else 0), 2)\n",
        "    ),\n",
        "    orders\n",
        "))\n",
        "\n",
        "print(result)\n",
        "\n"
      ],
      "metadata": {
        "colab": {
          "base_uri": "https://localhost:8080/"
        },
        "id": "zX9tdswyy-LL",
        "outputId": "10414e36-80d2-4ea8-c7d0-878f2390bc3a"
      },
      "execution_count": 13,
      "outputs": [
        {
          "output_type": "stream",
          "name": "stdout",
          "text": [
            "[(34587, 163.8), (98762, 284.0), (77226, 108.85), (88112, 84.97)]\n"
          ]
        }
      ]
    },
    {
      "cell_type": "code",
      "source": [],
      "metadata": {
        "id": "2amiwwcvAjzg"
      },
      "execution_count": null,
      "outputs": []
    }
  ]
}